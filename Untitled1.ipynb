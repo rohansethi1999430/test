{
 "cells": [
  {
   "cell_type": "code",
   "execution_count": 2,
   "metadata": {},
   "outputs": [
    {
     "name": "stdout",
     "output_type": "stream",
     "text": [
      "3 3 2\n",
      "3 5 8\n",
      "4 1 3\n"
     ]
    }
   ],
   "source": [
    "n,m,g=map(int,input().split())\n",
    "t=list(map(int,input().split()))\n",
    "a=list(map(int,input().split()))"
   ]
  },
  {
   "cell_type": "code",
   "execution_count": 3,
   "metadata": {},
   "outputs": [
    {
     "data": {
      "text/plain": [
       "3"
      ]
     },
     "execution_count": 3,
     "metadata": {},
     "output_type": "execute_result"
    }
   ],
   "source": [
    "n"
   ]
  },
  {
   "cell_type": "code",
   "execution_count": 4,
   "metadata": {},
   "outputs": [
    {
     "data": {
      "text/plain": [
       "3"
      ]
     },
     "execution_count": 4,
     "metadata": {},
     "output_type": "execute_result"
    }
   ],
   "source": [
    "m"
   ]
  },
  {
   "cell_type": "code",
   "execution_count": 5,
   "metadata": {},
   "outputs": [
    {
     "data": {
      "text/plain": [
       "2"
      ]
     },
     "execution_count": 5,
     "metadata": {},
     "output_type": "execute_result"
    }
   ],
   "source": [
    "g"
   ]
  },
  {
   "cell_type": "code",
   "execution_count": 6,
   "metadata": {},
   "outputs": [
    {
     "data": {
      "text/plain": [
       "[3, 5, 8]"
      ]
     },
     "execution_count": 6,
     "metadata": {},
     "output_type": "execute_result"
    }
   ],
   "source": [
    "t"
   ]
  },
  {
   "cell_type": "code",
   "execution_count": 7,
   "metadata": {},
   "outputs": [
    {
     "data": {
      "text/plain": [
       "[4, 1, 3]"
      ]
     },
     "execution_count": 7,
     "metadata": {},
     "output_type": "execute_result"
    }
   ],
   "source": [
    "a"
   ]
  },
  {
   "cell_type": "code",
   "execution_count": 8,
   "metadata": {},
   "outputs": [
    {
     "name": "stdout",
     "output_type": "stream",
     "text": [
      "2\n"
     ]
    }
   ],
   "source": [
    "c=0\n",
    "for i in a:\n",
    "    for j in range(1,n):\n",
    "        if((t[j]-t[j-1]>=i)):\n",
    "            c=c+1\n",
    "            break\n",
    "print(c)"
   ]
  },
  {
   "cell_type": "code",
   "execution_count": 15,
   "metadata": {},
   "outputs": [
    {
     "name": "stdout",
     "output_type": "stream",
     "text": [
      "2\n",
      "nBBZLaosnm\n",
      "2\n",
      "JHkIsnZtTL\n",
      "1\n"
     ]
    }
   ],
   "source": [
    "t=int(input())\n",
    "for i in range(t):\n",
    "    s=input()\n",
    "    n=0\n",
    "    for j in s:\n",
    "        if(j=='a'or j=='e'or j=='i'or j=='o'or j=='u'or j=='A'or j=='E'or j=='I'or j=='O'or j=='U'):\n",
    "            n=n+1\n",
    "    print(n)\n",
    "            "
   ]
  },
  {
   "cell_type": "code",
   "execution_count": 3,
   "metadata": {},
   "outputs": [
    {
     "name": "stdout",
     "output_type": "stream",
     "text": [
      "2\n",
      "1 2\n",
      "3\n",
      "3 4 5\n",
      "2 3\n"
     ]
    }
   ],
   "source": [
    "n=int(input())\n",
    "a=list(map(int,input().split()))\n",
    "m=int(input())\n",
    "c=list(map(int,input().split()))\n",
    "b=[]\n",
    "for i in c:\n",
    "    for j in a:\n",
    "        s=i-j\n",
    "        count=1\n",
    "        for k in a:\n",
    "            f=s+k\n",
    "            if(f not in c):\n",
    "                count=0\n",
    "                break\n",
    "        if count==1 and s not in b:\n",
    "            b.append(s)\n",
    "                \n",
    "                \n",
    "print(*b,sep=\" \")\n"
   ]
  },
  {
   "cell_type": "markdown",
   "metadata": {},
   "source": [
    " "
   ]
  },
  {
   "cell_type": "code",
   "execution_count": 43,
   "metadata": {},
   "outputs": [
    {
     "name": "stdout",
     "output_type": "stream",
     "text": [
      "4\n",
      "G: I want to go on 19  \n",
      "M: No that is not possible lets go on 21  \n",
      "G: No 19 is final and 21 is not  \n",
      "M: OKAY as you wish\n",
      "Date\n"
     ]
    }
   ],
   "source": [
    "n=int(input())\n",
    "c=[]\n",
    "g=\"\"\n",
    "cg=0\n",
    "m=\"\"\n",
    "cm=0\n",
    "d=0\n",
    "nd=0\n",
    "for i in range(n):\n",
    "    s=input()\n",
    "    c.append(s)\n",
    "for i in c:\n",
    "    if \"G:\" in i:\n",
    "        for j in i:\n",
    "            if (j.isnumeric()):\n",
    "                g=g+j\n",
    "                \n",
    "                if(len(g)==2):\n",
    "                    G=int(g)\n",
    "                    if(G==19 or g==20):\n",
    "                        d=d+2\n",
    "                        g=\"\"\n",
    "                    else:\n",
    "                        nd=nd+2\n",
    "                        g=\"\"\n",
    "    elif \"M:\" in i:\n",
    "        for j in i:\n",
    "            if (j.isnumeric()):\n",
    "                    m=m+j\n",
    "                    if(len(m)==2):\n",
    "                        M=int(m)\n",
    "                        if(M==19 or M==20):\n",
    "                            d=d+1\n",
    "                            m=\"\"\n",
    "                        else:\n",
    "                            nd=nd+1\n",
    "                            m=\"\"\n",
    "                \n",
    "\n",
    "\n",
    "\n",
    "if d>nd:\n",
    "    print(\"Date\")\n",
    "elif(d<nd):\n",
    "    print(\"No Date\")\n",
    "    \n",
    "else:\n",
    "    print(\"No Date\")\n"
   ]
  },
  {
   "cell_type": "code",
   "execution_count": null,
   "metadata": {},
   "outputs": [],
   "source": []
  }
 ],
 "metadata": {
  "kernelspec": {
   "display_name": "Python 3",
   "language": "python",
   "name": "python3"
  },
  "language_info": {
   "codemirror_mode": {
    "name": "ipython",
    "version": 3
   },
   "file_extension": ".py",
   "mimetype": "text/x-python",
   "name": "python",
   "nbconvert_exporter": "python",
   "pygments_lexer": "ipython3",
   "version": "3.7.1"
  }
 },
 "nbformat": 4,
 "nbformat_minor": 2
}
